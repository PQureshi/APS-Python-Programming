{
 "cells": [
  {
   "cell_type": "code",
   "execution_count": 3,
   "metadata": {},
   "outputs": [
    {
     "name": "stdout",
     "output_type": "stream",
     "text": [
      "750.0\n"
     ]
    }
   ],
   "source": [
    "def calc_tax(sales_total, tax_rate):\n",
    "    print(sales_total * tax_rate)\n",
    "\n",
    "    \n",
    "calc_tax(15000, .05)\n",
    "\n"
   ]
  },
  {
   "cell_type": "code",
   "execution_count": 5,
   "metadata": {},
   "outputs": [
    {
     "name": "stdout",
     "output_type": "stream",
     "text": [
      "1250.0\n"
     ]
    }
   ],
   "source": [
    "def calc_tax(sales_total, tax_rate = .05):\n",
    "    \n",
    "    \n",
    "    print(sales_total * tax_rate)\n",
    "\n",
    "    \n",
    "calc_tax(25000)\n"
   ]
  },
  {
   "cell_type": "code",
   "execution_count": 6,
   "metadata": {},
   "outputs": [
    {
     "name": "stdout",
     "output_type": "stream",
     "text": [
      "75\n"
     ]
    }
   ],
   "source": [
    "def add(a, b):\n",
    "    c = a + b\n",
    "    print(c)\n",
    "    \n",
    "    \n",
    "add(50, 25)\n",
    "    "
   ]
  },
  {
   "cell_type": "code",
   "execution_count": 9,
   "metadata": {},
   "outputs": [
    {
     "name": "stdout",
     "output_type": "stream",
     "text": [
      "150\n"
     ]
    }
   ],
   "source": [
    "def add(a, b = 100):\n",
    "    c = a + b\n",
    "    print(c)    \n",
    "    \n",
    "add(50)"
   ]
  },
  {
   "cell_type": "code",
   "execution_count": 14,
   "metadata": {},
   "outputs": [
    {
     "name": "stdout",
     "output_type": "stream",
     "text": [
      "Afzal Zunaib \n"
     ]
    }
   ],
   "source": [
    "#Keyword Argument\n",
    "def full_name(first_name, last_name):\n",
    "    fullName = first_name + last_name\n",
    "    print(fullName)    \n",
    "    \n",
    "    \n",
    "full_name(last_name = \"Zunaib \", first_name = \"Afzal \")"
   ]
  },
  {
   "cell_type": "code",
   "execution_count": 17,
   "metadata": {},
   "outputs": [
    {
     "name": "stdout",
     "output_type": "stream",
     "text": [
      "Afzal Zunaib \n"
     ]
    }
   ],
   "source": [
    "#Positional Arguments\n",
    "\n",
    "def full_name(first_name, last_name):\n",
    "    fullName = first_name + last_name\n",
    "    print(fullName)    \n",
    "    \n",
    "    \n",
    "full_name(\"Afzal \", \"Zunaib \")"
   ]
  },
  {
   "cell_type": "code",
   "execution_count": 22,
   "metadata": {},
   "outputs": [
    {
     "name": "stdout",
     "output_type": "stream",
     "text": [
      "The winner was Real Madrid\n",
      "The score was 1-0\n",
      "overtime: yes\n",
      "injuries: none\n"
     ]
    }
   ],
   "source": [
    "#Dealing with an unknown number of arguments\n",
    "\n",
    "\n",
    "def display_result(winner, score, **other_info):\n",
    "    \n",
    "    print(\"The winner was \" + winner)\n",
    "    \n",
    "    print(\"The score was \" + score)\n",
    "    \n",
    "    for key, value in other_info.items():\n",
    "        \n",
    "        print(key + \": \" + value)\n",
    "        \n",
    "\n",
    "display_result(winner=\"Real Madrid\", score=\"1-0\",\n",
    "               \n",
    "overtime =\"yes\", injuries=\"none\")\n"
   ]
  },
  {
   "cell_type": "code",
   "execution_count": 24,
   "metadata": {},
   "outputs": [
    {
     "name": "stdout",
     "output_type": "stream",
     "text": [
      "First Number:  50\n",
      "2nd Number:  25\n",
      "c: 100\n",
      "d: 150\n"
     ]
    }
   ],
   "source": [
    "#Dealing with an unknown number of arguments\n",
    "\n",
    "def add(a, b, **other_num):\n",
    "    \n",
    "    print(\"First Number:  \" + str(a))\n",
    "    \n",
    "    print(\"2nd Number:  \" + str(b))    \n",
    "    \n",
    "    for key, value in other_num.items():        \n",
    "        print(key + \": \" + value)        \n",
    "\n",
    "add(a=\"50\", b=\"25\", c = \"100\", d = \"150\")"
   ]
  },
  {
   "cell_type": "code",
   "execution_count": 26,
   "metadata": {},
   "outputs": [
    {
     "name": "stdout",
     "output_type": "stream",
     "text": [
      "First Number:  100\n",
      "2nd Number:  25\n",
      "Others Number:  (75, 150, 200)\n"
     ]
    }
   ],
   "source": [
    "#Dealing with an unknown number of arguments\n",
    "\n",
    "def display_num(a, b, *other_num):\n",
    "    \n",
    "    print(\"First Number:  \" + str(a))\n",
    "    \n",
    "    print(\"2nd Number:  \" + str(b))    \n",
    "    \n",
    "    print(\"Others Number:  \" + str(other_num))    \n",
    "    \n",
    "       \n",
    "\n",
    "add(100, 25, 75, 150, 200)"
   ]
  },
  {
   "cell_type": "code",
   "execution_count": 28,
   "metadata": {},
   "outputs": [
    {
     "name": "stdout",
     "output_type": "stream",
     "text": [
      "Sum of Number: 175\n",
      "Others Number:  (75, 150, 200)\n"
     ]
    }
   ],
   "source": [
    "#Dealing with an unknown number of arguments\n",
    "\n",
    "def add(a, b, *other_num):\n",
    "    \n",
    "    c = a + b\n",
    "    \n",
    "    print(\"Sum of Number: \" + str(c))\n",
    "    \n",
    "    print(\"Others Number:  \" + str(other_num))        \n",
    "       \n",
    "add(25, 150, 75, 150, 200)"
   ]
  },
  {
   "cell_type": "code",
   "execution_count": 32,
   "metadata": {},
   "outputs": [
    {
     "name": "stdout",
     "output_type": "stream",
     "text": [
      "75\n"
     ]
    }
   ],
   "source": [
    "def add(a, b):\n",
    "    c = a + b\n",
    "    print(c)\n",
    "    \n",
    "    \n",
    "add(50, 25)"
   ]
  },
  {
   "cell_type": "code",
   "execution_count": 36,
   "metadata": {},
   "outputs": [
    {
     "name": "stdout",
     "output_type": "stream",
     "text": [
      "135\n"
     ]
    }
   ],
   "source": [
    "def add(a, b):    \n",
    "    return a + b\n",
    "    \n",
    "def sub(a, b):    \n",
    "    return a - b\n",
    "    \n",
    "    \n",
    "x = add(50, 25)\n",
    "y = sub(75, 15)\n",
    "\n",
    "print(x + y)"
   ]
  },
  {
   "cell_type": "code",
   "execution_count": 42,
   "metadata": {},
   "outputs": [
    {
     "name": "stdout",
     "output_type": "stream",
     "text": [
      "60\n"
     ]
    }
   ],
   "source": [
    "#Local Variable\n",
    "\n",
    "def add_num():\n",
    "    x = 35\n",
    "    y = 15\n",
    "    return x + y\n",
    "\n",
    "add_num()\n",
    "print(x)\n",
    "print(y)"
   ]
  },
  {
   "cell_type": "code",
   "execution_count": 47,
   "metadata": {},
   "outputs": [
    {
     "data": {
      "text/plain": [
       "75"
      ]
     },
     "execution_count": 47,
     "metadata": {},
     "output_type": "execute_result"
    }
   ],
   "source": [
    "#Global Variable\n",
    "i = 25\n",
    "j = 50\n",
    "\n",
    "def add_num(i, j):\n",
    "    return i + j\n",
    "\n",
    "add_num(i, j)"
   ]
  },
  {
   "cell_type": "code",
   "execution_count": 48,
   "metadata": {},
   "outputs": [
    {
     "name": "stdout",
     "output_type": "stream",
     "text": [
      "25\n",
      "50\n"
     ]
    }
   ],
   "source": [
    "print(i)\n",
    "print(j)"
   ]
  },
  {
   "cell_type": "code",
   "execution_count": 51,
   "metadata": {},
   "outputs": [
    {
     "name": "stdout",
     "output_type": "stream",
     "text": [
      "salam\n"
     ]
    },
    {
     "data": {
      "text/plain": [
       "'Bilal Ahmed'"
      ]
     },
     "execution_count": 51,
     "metadata": {},
     "output_type": "execute_result"
    }
   ],
   "source": [
    "def say_something():\n",
    "    what_to_say = \"salam\"\n",
    "    print(what_to_say)\n",
    "    \n",
    " \n",
    "def full_name(first, last):\n",
    "    fullName = first + last\n",
    "    \n",
    "    say_something()\n",
    "    \n",
    "    return fullName\n",
    "\n",
    "    \n",
    "full_name(\"Bilal \", \"Ahmed\")"
   ]
  },
  {
   "cell_type": "code",
   "execution_count": null,
   "metadata": {},
   "outputs": [],
   "source": []
  },
  {
   "cell_type": "code",
   "execution_count": null,
   "metadata": {},
   "outputs": [],
   "source": []
  },
  {
   "cell_type": "code",
   "execution_count": null,
   "metadata": {},
   "outputs": [],
   "source": []
  },
  {
   "cell_type": "code",
   "execution_count": null,
   "metadata": {},
   "outputs": [],
   "source": []
  }
 ],
 "metadata": {
  "kernelspec": {
   "display_name": "Python 3",
   "language": "python",
   "name": "python3"
  },
  "language_info": {
   "codemirror_mode": {
    "name": "ipython",
    "version": 3
   },
   "file_extension": ".py",
   "mimetype": "text/x-python",
   "name": "python",
   "nbconvert_exporter": "python",
   "pygments_lexer": "ipython3",
   "version": "3.8.3"
  }
 },
 "nbformat": 4,
 "nbformat_minor": 4
}
