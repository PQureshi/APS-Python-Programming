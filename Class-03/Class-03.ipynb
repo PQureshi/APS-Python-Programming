{
 "cells": [
  {
   "cell_type": "code",
   "execution_count": 7,
   "metadata": {},
   "outputs": [
    {
     "name": "stdout",
     "output_type": "stream",
     "text": [
      "Saylani \n",
      "\tMass \n",
      "\t\tIT \n",
      "\t\t\tTraining\n"
     ]
    }
   ],
   "source": [
    "print(\"Saylani \\n\\tMass \\n\\t\\tIT \\n\\t\\t\\tTraining\")"
   ]
  },
  {
   "cell_type": "code",
   "execution_count": 22,
   "metadata": {},
   "outputs": [
    {
     "name": "stdout",
     "output_type": "stream",
     "text": [
      "1st Num: 5\n",
      "2nd Num: 7\n",
      "12\n"
     ]
    },
    {
     "data": {
      "text/plain": [
       "int"
      ]
     },
     "execution_count": 22,
     "metadata": {},
     "output_type": "execute_result"
    }
   ],
   "source": [
    "a = int(input(\"1st Num: \"))\n",
    "b = int(input(\"2nd Num: \"))\n",
    "\n",
    "print(a + b)\n",
    "\n",
    "type(a)\n",
    "type(b)\n",
    "\n"
   ]
  },
  {
   "cell_type": "code",
   "execution_count": 25,
   "metadata": {},
   "outputs": [
    {
     "name": "stdout",
     "output_type": "stream",
     "text": [
      "Wroge Operator\n"
     ]
    }
   ],
   "source": [
    "num1 = 5\n",
    "num2 = 10\n",
    "op = \"*\"\n",
    "\n",
    "\n",
    "if op == \"+\":\n",
    "    print(num1 + num2)\n",
    "else:\n",
    "    print(\"Wroge Operator\")"
   ]
  },
  {
   "cell_type": "code",
   "execution_count": 29,
   "metadata": {},
   "outputs": [
    {
     "name": "stdout",
     "output_type": "stream",
     "text": [
      "Right Name\n"
     ]
    }
   ],
   "source": [
    "#AND Operator\n",
    "\n",
    "first_name = \"Zunaib\"\n",
    "last_name = \"Afzal\"\n",
    "\n",
    "if first_name == \"Zunaib\" and last_name == \"Afzal\":\n",
    "    print(\"Right Name\")\n",
    "else:\n",
    "    print(\"Wrong Name\")\n",
    "    \n"
   ]
  },
  {
   "cell_type": "code",
   "execution_count": 44,
   "metadata": {},
   "outputs": [
    {
     "name": "stdout",
     "output_type": "stream",
     "text": [
      "Wrong Name\n"
     ]
    }
   ],
   "source": [
    "#OR Operator\n",
    "\n",
    "first_name = \"M\"\n",
    "mid_name = \"Bilal\"\n",
    "last_name = \"Afzal\"\n",
    "\n",
    "if (first_name == \"M\" or mid_name == \"Bilal\") and last_name == \"Ahmed\":\n",
    "    print(\"Right Name\")\n",
    "else:\n",
    "    print(\"Wrong Name\")"
   ]
  },
  {
   "cell_type": "code",
   "execution_count": 46,
   "metadata": {},
   "outputs": [
    {
     "name": "stdout",
     "output_type": "stream",
     "text": [
      "Right Name\n"
     ]
    }
   ],
   "source": [
    "#OR Operator\n",
    "#AND Operator\n",
    "\n",
    "first_name = \"M\"\n",
    "mid_name = \"Bilal\"\n",
    "last_name = \"Afzal\"\n",
    "\n",
    "if first_name == \"M\" or (mid_name == \"Bilal\" and last_name == \"Ahmed\"):\n",
    "    print(\"Right Name\")\n",
    "else:\n",
    "    print(\"Wrong Name\")"
   ]
  },
  {
   "cell_type": "code",
   "execution_count": 8,
   "metadata": {},
   "outputs": [
    {
     "name": "stdout",
     "output_type": "stream",
     "text": [
      "Wrong Name Inner IF\n"
     ]
    }
   ],
   "source": [
    "#If Statement Nested\n",
    "\n",
    "first_name = \"Zunaib\"\n",
    "last_name = \"Afzal\"\n",
    "\n",
    "if first_name == \"Zunaib\":\n",
    "    \n",
    "    if last_name == \"Ahmed\":\n",
    "        print(\"Right Name\")\n",
    "    else:\n",
    "        print(\"Wrong Name Inner IF\")  \n",
    "        \n",
    "else:\n",
    "    print(\"Wrong Name outer IF\")"
   ]
  },
  {
   "cell_type": "code",
   "execution_count": 24,
   "metadata": {},
   "outputs": [
    {
     "name": "stdout",
     "output_type": "stream",
     "text": [
      "Welcome to Zunaib\n"
     ]
    }
   ],
   "source": [
    "students = ['Bilal','Zunaib','Ahmed','Afzal']\n",
    "\n",
    "\n",
    "print(\"Welcome to \" + students[1])\n"
   ]
  },
  {
   "cell_type": "code",
   "execution_count": 22,
   "metadata": {},
   "outputs": [
    {
     "name": "stdout",
     "output_type": "stream",
     "text": [
      "20\n"
     ]
    },
    {
     "data": {
      "text/plain": [
       "list"
      ]
     },
     "execution_count": 22,
     "metadata": {},
     "output_type": "execute_result"
    }
   ],
   "source": [
    "mix_values = ['Bilal','Zunaib','Ahmed','Afzal', 20, 50]\n",
    "\n",
    "print(mix_values[4])\n",
    "type(mix_values)"
   ]
  },
  {
   "cell_type": "code",
   "execution_count": null,
   "metadata": {},
   "outputs": [],
   "source": [
    "print(\"Saylani Mass IT Training\")"
   ]
  },
  {
   "cell_type": "code",
   "execution_count": null,
   "metadata": {},
   "outputs": [],
   "source": []
  }
 ],
 "metadata": {
  "kernelspec": {
   "display_name": "Python 3",
   "language": "python",
   "name": "python3"
  },
  "language_info": {
   "codemirror_mode": {
    "name": "ipython",
    "version": 3
   },
   "file_extension": ".py",
   "mimetype": "text/x-python",
   "name": "python",
   "nbconvert_exporter": "python",
   "pygments_lexer": "ipython3",
   "version": "3.8.3"
  }
 },
 "nbformat": 4,
 "nbformat_minor": 4
}
