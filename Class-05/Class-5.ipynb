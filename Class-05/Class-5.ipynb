{
 "cells": [
  {
   "cell_type": "code",
   "execution_count": 14,
   "metadata": {},
   "outputs": [
    {
     "name": "stdout",
     "output_type": "stream",
     "text": [
      "Welcome to: Zunaib\n",
      "Welcome to: Bilal\n",
      "Welcome to: Ali\n",
      "Welcome to: Moiz\n",
      "Welcome to: Umer\n",
      "Welcome to: Kashaf\n"
     ]
    }
   ],
   "source": [
    "#For Loop\n",
    "\n",
    "students = [\"Zunaib\", \"Bilal\", \"Ali\", \"Moiz\", \"Umer\", \"Kashaf\"]\n",
    "\n",
    "for i in students: \n",
    "    print(\"Welcome to: \" + i)"
   ]
  },
  {
   "cell_type": "code",
   "execution_count": 17,
   "metadata": {},
   "outputs": [
    {
     "name": "stdout",
     "output_type": "stream",
     "text": [
      "['Muhammad Zunaib', 'Muhammad Bilal', 'Muhammad Ali', 'Ahmed Zunaib', 'Ahmed Bilal', 'Ahmed Ali', 'Raza Zunaib', 'Raza Bilal', 'Raza Ali']\n"
     ]
    }
   ],
   "source": [
    "first_name = [\"Muhammad\", \"Ahmed\", \"Raza\"]\n",
    "last_name = [ \"Zunaib\", \"Bilal\", \"Ali\"]\n",
    "full_name = []\n",
    "\n",
    "for first in first_name:\n",
    "    for last in last_name:\n",
    "        full_name.append(first + \" \" + last)\n",
    "\n",
    "print(full_name)\n"
   ]
  },
  {
   "cell_type": "code",
   "execution_count": 38,
   "metadata": {},
   "outputs": [
    {
     "name": "stdout",
     "output_type": "stream",
     "text": [
      "b x a = a*b\n",
      "b x a = a*b\n",
      "b x a = a*b\n",
      "b x a = a*b\n",
      "b x a = a*b\n",
      "b x a = a*b\n",
      "b x a = a*b\n",
      "b x a = a*b\n",
      "b x a = a*b\n",
      "b x a = a*b\n"
     ]
    }
   ],
   "source": [
    "b = 12\n",
    "\n",
    "for a in range(1, 11):\n",
    "    print(str(b) + \" x \" + str(a) + \" = \" + str(a*b))"
   ]
  },
  {
   "cell_type": "code",
   "execution_count": null,
   "metadata": {},
   "outputs": [],
   "source": [
    "2 x 1 = 2\n",
    "2 x 2 = 4\n",
    "2 x 3 = 6"
   ]
  },
  {
   "cell_type": "code",
   "execution_count": 30,
   "metadata": {},
   "outputs": [
    {
     "name": "stdout",
     "output_type": "stream",
     "text": [
      "zunaib500\n"
     ]
    }
   ],
   "source": [
    "print(\"zunaib\" + str(500))"
   ]
  },
  {
   "cell_type": "code",
   "execution_count": 47,
   "metadata": {},
   "outputs": [
    {
     "name": "stdout",
     "output_type": "stream",
     "text": [
      "Welcome to: Zunaib\n",
      "Welcome to: Bilal\n",
      "Welcome to: Ali\n",
      "Wrong Name\n",
      "Welcome to: Moiz\n",
      "Welcome to: Umer\n",
      "Welcome to: Kashaf\n"
     ]
    }
   ],
   "source": [
    "students = [\"Zunaib\", \"Bilal\", \"Ali\", \"Moiz\", \"Umer\", \"Kashaf\"]\n",
    "\n",
    "for i in students: \n",
    "    print(\"Welcome to: \" + i)\n",
    "    if i == \"Ali\":\n",
    "        print(\"Wrong Name\")\n",
    "   \n",
    "        "
   ]
  },
  {
   "cell_type": "code",
   "execution_count": 51,
   "metadata": {},
   "outputs": [
    {
     "name": "stdout",
     "output_type": "stream",
     "text": [
      "First Name: Zunaib\n",
      "Last Name: Afzal\n",
      "Zunaib Afzal\n"
     ]
    }
   ],
   "source": [
    "a = input(\"First Name: \")\n",
    "b = input(\"Last Name: \")\n",
    "\n",
    "print(a + \" \" + b)"
   ]
  },
  {
   "cell_type": "code",
   "execution_count": 4,
   "metadata": {},
   "outputs": [
    {
     "name": "stdout",
     "output_type": "stream",
     "text": [
      "First Number: 50\n",
      "Second Number: 40\n",
      "90\n"
     ]
    },
    {
     "data": {
      "text/plain": [
       "int"
      ]
     },
     "execution_count": 4,
     "metadata": {},
     "output_type": "execute_result"
    }
   ],
   "source": [
    "a = int(input(\"First Number: \"))\n",
    "b = int(input(\"Second Number: \"))\n",
    "\n",
    "print(a + b)\n",
    "type(a)"
   ]
  },
  {
   "cell_type": "code",
   "execution_count": 7,
   "metadata": {},
   "outputs": [
    {
     "name": "stdout",
     "output_type": "stream",
     "text": [
      "zunaib500\n"
     ]
    }
   ],
   "source": [
    "print(\"zunaib\" + str(500))"
   ]
  },
  {
   "cell_type": "code",
   "execution_count": 22,
   "metadata": {},
   "outputs": [
    {
     "name": "stdout",
     "output_type": "stream",
     "text": [
      "zunaib\n",
      "ZUNAIB\n",
      "Zunaib\n"
     ]
    }
   ],
   "source": [
    "#Changing Case\n",
    "\n",
    "name = \"ZuNaiB\"\n",
    "\n",
    "#Lower Case #Small Letters\n",
    "print(name.lower())\n",
    "\n",
    "#Upper Case #Capital Letters\n",
    "print(name.upper())\n",
    "\n",
    "#Propper #Title\n",
    "print(name.title())\n"
   ]
  },
  {
   "cell_type": "code",
   "execution_count": 19,
   "metadata": {},
   "outputs": [
    {
     "name": "stdout",
     "output_type": "stream",
     "text": [
      "Write Your Name: zunaib\n",
      "Right Name\n"
     ]
    }
   ],
   "source": [
    "name = input(\"Write Your Name: \")\n",
    "\n",
    "if name.title() == \"Zunaib\":\n",
    "    print(\"Right Name\")\n",
    "else:\n",
    "    print(\"Wrong Name\")"
   ]
  },
  {
   "cell_type": "code",
   "execution_count": null,
   "metadata": {},
   "outputs": [],
   "source": []
  },
  {
   "cell_type": "code",
   "execution_count": null,
   "metadata": {},
   "outputs": [],
   "source": []
  },
  {
   "cell_type": "code",
   "execution_count": null,
   "metadata": {},
   "outputs": [],
   "source": []
  },
  {
   "cell_type": "code",
   "execution_count": null,
   "metadata": {},
   "outputs": [],
   "source": []
  }
 ],
 "metadata": {
  "kernelspec": {
   "display_name": "Python 3",
   "language": "python",
   "name": "python3"
  },
  "language_info": {
   "codemirror_mode": {
    "name": "ipython",
    "version": 3
   },
   "file_extension": ".py",
   "mimetype": "text/x-python",
   "name": "python",
   "nbconvert_exporter": "python",
   "pygments_lexer": "ipython3",
   "version": "3.8.3"
  }
 },
 "nbformat": 4,
 "nbformat_minor": 4
}
