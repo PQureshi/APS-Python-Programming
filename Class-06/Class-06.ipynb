{
 "cells": [
  {
   "cell_type": "code",
   "execution_count": 58,
   "metadata": {},
   "outputs": [
    {
     "name": "stdout",
     "output_type": "stream",
     "text": [
      "\t\t\tEnter Table: 5\n",
      "\t\t 5  x  1  =  5\n",
      "\t\t 5  x  2  =  10\n",
      "\t\t 5  x  3  =  15\n",
      "\t\t 5  x  4  =  20\n",
      "\t\t 5  x  5  =  25\n",
      "\t\t 5  x  6  =  30\n",
      "\t\t 5  x  7  =  35\n",
      "\t\t 5  x  8  =  40\n",
      "\t\t 5  x  9  =  45\n",
      "\t\t 5  x  10  =  50\n"
     ]
    }
   ],
   "source": [
    "num = int(input(\"\\t\\t\\tEnter Table: \"))\n",
    "\n",
    "for i in range(1, 11):\n",
    "    print(\"\\t\\t\", num, \" x \", i, \" = \", i*num)"
   ]
  },
  {
   "cell_type": "code",
   "execution_count": 10,
   "metadata": {},
   "outputs": [
    {
     "name": "stdout",
     "output_type": "stream",
     "text": [
      "English: 101\n",
      "Urdu: 110\n",
      "Science: 140\n",
      "Physics: 55\n",
      "Biology: 95\n",
      "501\n",
      "100.2\n",
      "Grade A1\n"
     ]
    }
   ],
   "source": [
    "sub1 = int(input(\"English: \"))\n",
    "sub2 = int(input(\"Urdu: \"))\n",
    "sub3 = int(input(\"Science: \"))\n",
    "sub4 = int(input(\"Physics: \"))\n",
    "sub5 = int(input(\"Biology: \"))\n",
    "\n",
    "total = (sub1+sub2+sub3+sub4+sub5)\n",
    "\n",
    "print(total)\n",
    "\n",
    "per = (total / 5)\n",
    "\n",
    "print(per)\n",
    "\n",
    "if per >= 90:\n",
    "    print(\"Grade A1\")\n",
    "elif per >= 80:\n",
    "    print(\"Grade A\")\n",
    "elif per >= 60:\n",
    "    print(\"Grade C\")\n",
    "elif per >= 50:\n",
    "    print(\"Grade D\")\n",
    "else:\n",
    "    print(\"Fail\")"
   ]
  },
  {
   "cell_type": "code",
   "execution_count": null,
   "metadata": {},
   "outputs": [],
   "source": [
    "Grade-A1: 81 to 90+\n",
    "Grade-A: 71 to 80\n",
    "Grade-B: \n",
    "    \n",
    "\n",
    "\n"
   ]
  },
  {
   "cell_type": "code",
   "execution_count": 55,
   "metadata": {},
   "outputs": [
    {
     "name": "stdout",
     "output_type": "stream",
     "text": [
      "{'name': ['Zunaib', 'Bilal'], 'class': ['9th', '8th'], 'address': ['Karachi, Pakistan', 'Islamabad, Pakistan'], 'email': ['muhammadzunaib@gmail.com', 'Bilal@gmail.com']}\n"
     ]
    }
   ],
   "source": [
    "stuinfo = {  \"name\": [\"Zunaib\", \"Bilal\"], \n",
    "           \n",
    "            \"class\": [\"9th\", \"8th\"], \n",
    "           \n",
    "          5: [\"03001234567\", \"03451234567\"],\n",
    "           \n",
    "          \"address\": [\"Karachi, Pakistan\", \"Islamabad, Pakistan\"],\n",
    "           \n",
    "          \"email\": [\"muhammadzunaib@gmail.com\", \"Bilal@gmail.com\"],          \n",
    "          }\n",
    "\n",
    "\n",
    "del stuinfo[5]\n",
    "\n",
    "print(stuinfo)\n"
   ]
  },
  {
   "cell_type": "code",
   "execution_count": 27,
   "metadata": {},
   "outputs": [
    {
     "name": "stdout",
     "output_type": "stream",
     "text": [
      "Welcome to : zunaib\n",
      "Welcome to : bilal\n",
      "Welcome to : amna\n"
     ]
    }
   ],
   "source": [
    "student = [\"zunaib\", \"bilal\", \"amna\"]\n",
    "\n",
    "for i in student:\n",
    "    print(\"Welcome to : \" + i)"
   ]
  },
  {
   "cell_type": "code",
   "execution_count": 49,
   "metadata": {},
   "outputs": [
    {
     "name": "stdout",
     "output_type": "stream",
     "text": [
      "['Zunaib', 'Bilal']\n",
      "['9th', '8th']\n",
      "['03001234567', '03451234567']\n",
      "['Karachi, Pakistan', 'Islamabad, Pakistan']\n",
      "['muhammadzunaib@gmail.com', 'Bilal@gmail.com']\n"
     ]
    }
   ],
   "source": [
    "stuinfo = {  \"name\": [\"Zunaib\", \"Bilal\"], \n",
    "           \n",
    "            \"class\": [\"9th\", \"8th\"], \n",
    "           \n",
    "          5: [\"03001234567\", \"03451234567\"],\n",
    "           \n",
    "          \"address\": [\"Karachi, Pakistan\", \"Islamabad, Pakistan\"],\n",
    "           \n",
    "          \"email\": [\"muhammadzunaib@gmail.com\", \"Bilal@gmail.com\"],          \n",
    "          \n",
    "     \n",
    "          }\n",
    "\n",
    "\n",
    "for i in stuinfo.values():\n",
    "    print(i)"
   ]
  },
  {
   "cell_type": "code",
   "execution_count": 50,
   "metadata": {},
   "outputs": [
    {
     "name": "stdout",
     "output_type": "stream",
     "text": [
      "name\n",
      "class\n",
      "5\n",
      "address\n",
      "email\n"
     ]
    }
   ],
   "source": [
    "stuinfo = {  \"name\": [\"Zunaib\", \"Bilal\"], \n",
    "           \n",
    "            \"class\": [\"9th\", \"8th\"], \n",
    "           \n",
    "          5: [\"03001234567\", \"03451234567\"],\n",
    "           \n",
    "          \"address\": [\"Karachi, Pakistan\", \"Islamabad, Pakistan\"],\n",
    "           \n",
    "          \"email\": [\"muhammadzunaib@gmail.com\", \"Bilal@gmail.com\"],          \n",
    "          \n",
    "     \n",
    "          }\n",
    "\n",
    "\n",
    "for i in stuinfo.keys():\n",
    "    print(i)"
   ]
  },
  {
   "cell_type": "code",
   "execution_count": 53,
   "metadata": {},
   "outputs": [
    {
     "name": "stdout",
     "output_type": "stream",
     "text": [
      "Keys:  name Values:  ['Zunaib', 'Bilal']\n",
      "Keys:  class Values:  ['9th', '8th']\n",
      "Keys:  5 Values:  ['03001234567', '03451234567']\n",
      "Keys:  address Values:  ['Karachi, Pakistan', 'Islamabad, Pakistan']\n",
      "Keys:  email Values:  ['muhammadzunaib@gmail.com', 'Bilal@gmail.com']\n"
     ]
    }
   ],
   "source": [
    "stuinfo = {  \"name\": [\"Zunaib\", \"Bilal\"], \n",
    "           \n",
    "            \"class\": [\"9th\", \"8th\"], \n",
    "           \n",
    "          5: [\"03001234567\", \"03451234567\"],\n",
    "           \n",
    "          \"address\": [\"Karachi, Pakistan\", \"Islamabad, Pakistan\"],\n",
    "           \n",
    "          \"email\": [\"muhammadzunaib@gmail.com\", \"Bilal@gmail.com\"],          \n",
    "               \n",
    "          }\n",
    "\n",
    "\n",
    "for stu_keys, stu_values in stuinfo.items():\n",
    "    \n",
    "    print(\"Keys: \", stu_keys, \"Values: \", stu_values)"
   ]
  },
  {
   "cell_type": "code",
   "execution_count": null,
   "metadata": {},
   "outputs": [],
   "source": []
  },
  {
   "cell_type": "code",
   "execution_count": null,
   "metadata": {},
   "outputs": [],
   "source": []
  },
  {
   "cell_type": "code",
   "execution_count": null,
   "metadata": {},
   "outputs": [],
   "source": []
  }
 ],
 "metadata": {
  "kernelspec": {
   "display_name": "Python 3",
   "language": "python",
   "name": "python3"
  },
  "language_info": {
   "codemirror_mode": {
    "name": "ipython",
    "version": 3
   },
   "file_extension": ".py",
   "mimetype": "text/x-python",
   "name": "python",
   "nbconvert_exporter": "python",
   "pygments_lexer": "ipython3",
   "version": "3.8.3"
  }
 },
 "nbformat": 4,
 "nbformat_minor": 4
}
