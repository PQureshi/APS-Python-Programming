{
 "cells": [
  {
   "cell_type": "code",
   "execution_count": 2,
   "metadata": {},
   "outputs": [
    {
     "name": "stdout",
     "output_type": "stream",
     "text": [
      "4\n"
     ]
    }
   ],
   "source": [
    "#Math expressions: Familiar operators\n",
    "\n",
    "print(2 + 2)\n"
   ]
  },
  {
   "cell_type": "code",
   "execution_count": 7,
   "metadata": {},
   "outputs": [
    {
     "name": "stdout",
     "output_type": "stream",
     "text": [
      "35\n",
      "15\n",
      "250\n",
      "2.5\n"
     ]
    }
   ],
   "source": [
    "a = 25\n",
    "b = 10\n",
    "\n",
    "print(a + b)\n",
    "print(a - b)\n",
    "print(a * b)\n",
    "print(a / b)\n"
   ]
  },
  {
   "cell_type": "code",
   "execution_count": 6,
   "metadata": {},
   "outputs": [
    {
     "name": "stdout",
     "output_type": "stream",
     "text": [
      "academy\n"
     ]
    }
   ],
   "source": [
    "#Update Variable\n",
    "saylani = \"online\"\n",
    "saylani = \"academy\"\n",
    "\n",
    "print(saylani)"
   ]
  },
  {
   "cell_type": "code",
   "execution_count": 8,
   "metadata": {},
   "outputs": [
    {
     "name": "stdout",
     "output_type": "stream",
     "text": [
      "35\n"
     ]
    }
   ],
   "source": [
    "#Add in C Variable\n",
    "a = 25\n",
    "b = 10\n",
    "\n",
    "c = a + b\n",
    "\n",
    "print(c)"
   ]
  },
  {
   "cell_type": "code",
   "execution_count": 47,
   "metadata": {},
   "outputs": [
    {
     "name": "stdout",
     "output_type": "stream",
     "text": [
      "2\n"
     ]
    }
   ],
   "source": [
    "#Module Operator\n",
    "x = 11\n",
    "y = 3\n",
    "\n",
    "print(x % y)"
   ]
  },
  {
   "cell_type": "code",
   "execution_count": 21,
   "metadata": {},
   "outputs": [
    {
     "name": "stdout",
     "output_type": "stream",
     "text": [
      "8\n"
     ]
    }
   ],
   "source": [
    "#Increment\n",
    "num = 5\n",
    "\n",
    "num += 3\n",
    "\n",
    "print(num)"
   ]
  },
  {
   "cell_type": "code",
   "execution_count": 18,
   "metadata": {},
   "outputs": [
    {
     "name": "stdout",
     "output_type": "stream",
     "text": [
      "3\n"
     ]
    }
   ],
   "source": [
    "#Decrement\n",
    "\n",
    "num = 5\n",
    "\n",
    "num -= 2\n",
    "\n",
    "print(num)"
   ]
  },
  {
   "cell_type": "code",
   "execution_count": 19,
   "metadata": {},
   "outputs": [
    {
     "name": "stdout",
     "output_type": "stream",
     "text": [
      "10\n"
     ]
    }
   ],
   "source": [
    "#Multiply\n",
    "num = 5\n",
    "\n",
    "num *= 2\n",
    "\n",
    "print(num)"
   ]
  },
  {
   "cell_type": "code",
   "execution_count": 20,
   "metadata": {},
   "outputs": [
    {
     "name": "stdout",
     "output_type": "stream",
     "text": [
      "2.5\n"
     ]
    }
   ],
   "source": [
    "#Divide\n",
    "num = 5\n",
    "\n",
    "num /= 2\n",
    "\n",
    "print(num)"
   ]
  },
  {
   "cell_type": "code",
   "execution_count": 25,
   "metadata": {},
   "outputs": [
    {
     "name": "stdout",
     "output_type": "stream",
     "text": [
      "78\n"
     ]
    }
   ],
   "source": [
    "#Eliminating Ambiguity\n",
    "num2 = ((1 + 3) * 4) * 5 - 2\n",
    "\n",
    "\n",
    "print(num2)"
   ]
  },
  {
   "cell_type": "code",
   "execution_count": 29,
   "metadata": {},
   "outputs": [
    {
     "name": "stdout",
     "output_type": "stream",
     "text": [
      "Zunaib Afzal\n"
     ]
    }
   ],
   "source": [
    "#Concatenate\n",
    "\n",
    "first_name = \"Zunaib\"\n",
    "last_name = \"Afzal\"\n",
    "sp = \" \"\n",
    "\n",
    "full_name = first_name + sp + last_name\n",
    "\n",
    "print(full_name)\n",
    "\n"
   ]
  },
  {
   "cell_type": "code",
   "execution_count": 51,
   "metadata": {},
   "outputs": [
    {
     "name": "stdout",
     "output_type": "stream",
     "text": [
      "Zunaib Afzal\n"
     ]
    }
   ],
   "source": [
    "#Chapter 8\n",
    "\n",
    "first_name = \"Zunaib\"\n",
    "\n",
    "last_name = \"Afzal\"\n",
    "\n",
    "sp = \" \"\n",
    "\n",
    "full_name = first_name+sp+last_name\n",
    "\n",
    "print(full_name)"
   ]
  },
  {
   "cell_type": "code",
   "execution_count": 40,
   "metadata": {},
   "outputs": [
    {
     "ename": "TypeError",
     "evalue": "can only concatenate str (not \"int\") to str",
     "output_type": "error",
     "traceback": [
      "\u001b[1;31m---------------------------------------------------------------------------\u001b[0m",
      "\u001b[1;31mTypeError\u001b[0m                                 Traceback (most recent call last)",
      "\u001b[1;32m<ipython-input-40-b75d5d1cd975>\u001b[0m in \u001b[0;36m<module>\u001b[1;34m\u001b[0m\n\u001b[0;32m      2\u001b[0m \u001b[0mnum3\u001b[0m \u001b[1;33m=\u001b[0m \u001b[1;36m50\u001b[0m\u001b[1;33m\u001b[0m\u001b[1;33m\u001b[0m\u001b[0m\n\u001b[0;32m      3\u001b[0m \u001b[1;33m\u001b[0m\u001b[0m\n\u001b[1;32m----> 4\u001b[1;33m \u001b[0mprint\u001b[0m\u001b[1;33m(\u001b[0m\u001b[0mfirst_name\u001b[0m \u001b[1;33m+\u001b[0m \u001b[0mnum3\u001b[0m\u001b[1;33m)\u001b[0m\u001b[1;33m\u001b[0m\u001b[1;33m\u001b[0m\u001b[0m\n\u001b[0m",
      "\u001b[1;31mTypeError\u001b[0m: can only concatenate str (not \"int\") to str"
     ]
    }
   ],
   "source": [
    "first_name = \"Bilal\"\n",
    "num3 = 50\n",
    "\n",
    "print(first_name + num3)"
   ]
  },
  {
   "cell_type": "code",
   "execution_count": 7,
   "metadata": {},
   "outputs": [
    {
     "name": "stdout",
     "output_type": "stream",
     "text": [
      "You are Right\n"
     ]
    }
   ],
   "source": [
    "#if Statement\n",
    "\n",
    "city = \"Karachi\"\n",
    "\n",
    "\n",
    "if city == \"Karachi\":\n",
    "    print(\"You are Right\")\n",
    "else:\n",
    "    print(\"You are wrong\")\n",
    "    \n"
   ]
  },
  {
   "cell_type": "code",
   "execution_count": 9,
   "metadata": {},
   "outputs": [
    {
     "name": "stdout",
     "output_type": "stream",
     "text": [
      "Wrong answer\n"
     ]
    }
   ],
   "source": [
    "#Compare in Numbers\n",
    "\n",
    "if 35 + 50 == 75:\n",
    "    print(\"Right answer\")\n",
    "else:\n",
    "    print(\"Wrong answer\")"
   ]
  },
  {
   "cell_type": "code",
   "execution_count": 11,
   "metadata": {},
   "outputs": [
    {
     "name": "stdout",
     "output_type": "stream",
     "text": [
      "Wrong Name\n"
     ]
    }
   ],
   "source": [
    "#Compare in String\n",
    "\n",
    "first_name = \"Zunaib\"\n",
    "last_name = \"Afzal\"\n",
    "sp = \" \"\n",
    "\n",
    "full_name = first_name + sp + last_name\n",
    "\n",
    "if full_name == \"Zunaib Afzal\":\n",
    "    \n",
    "    print(\"Yes Right Name\")\n",
    "\n",
    "else:\n",
    "    print(\"Wrong Name\")"
   ]
  },
  {
   "cell_type": "code",
   "execution_count": 14,
   "metadata": {},
   "outputs": [
    {
     "name": "stdout",
     "output_type": "stream",
     "text": [
      "Yes Right Name\n"
     ]
    }
   ],
   "source": [
    "#Not Equal To\n",
    "\n",
    "first_name = \"Zunaib\"\n",
    "last_name = \"Afzal\"\n",
    "sp = \"_\"\n",
    "\n",
    "full_name = first_name + sp + last_name\n",
    "\n",
    "if full_name != \"Bilal\":\n",
    "    \n",
    "    print(\"Yes Right Name\")\n",
    "\n",
    "else:\n",
    "    print(\"Wrong Name\")"
   ]
  },
  {
   "cell_type": "code",
   "execution_count": 31,
   "metadata": {},
   "outputs": [
    {
     "name": "stdout",
     "output_type": "stream",
     "text": [
      "Right Answer\n"
     ]
    }
   ],
   "source": [
    "#if statements\n",
    "#Less than, greater than \n",
    "\n",
    "if 25 <= 25:\n",
    "    print(\"Right Answer\")\n",
    "else:\n",
    "    print(\"Wrong Answer\")"
   ]
  },
  {
   "cell_type": "code",
   "execution_count": 39,
   "metadata": {},
   "outputs": [
    {
     "name": "stdout",
     "output_type": "stream",
     "text": [
      "Write Your City Name: Islamabad\n",
      "Islamabad is Right Answer\n"
     ]
    }
   ],
   "source": [
    "#elif statements\n",
    "#input function\n",
    "\n",
    "city = input(\"Write Your City Name: \")\n",
    "\n",
    "if city == \"Karachi\":    \n",
    "    print(\"Karachi is Right Answer\")    \n",
    "elif city == \"Islamabad\":    \n",
    "    print(\"Islamabad is Right Answer\")\n",
    "elif city == \"Multan\":    \n",
    "    print(\"Multan is Right Answer\")\n",
    "elif city == \"Lahore\":    \n",
    "    print(\"Lahore is Right Answer\")    \n",
    "else:\n",
    "    print(\"Wrong Answer\")"
   ]
  },
  {
   "cell_type": "code",
   "execution_count": 43,
   "metadata": {},
   "outputs": [
    {
     "name": "stdout",
     "output_type": "stream",
     "text": [
      "False\n"
     ]
    }
   ],
   "source": [
    "a = 25\n",
    "b = 15\n",
    "\n",
    "x = 5\n",
    "y = 10\n",
    "\n",
    "if x + y == a - b:\n",
    "    print(\"True\")\n",
    "else:\n",
    "    print(\"False\")"
   ]
  },
  {
   "cell_type": "code",
   "execution_count": 44,
   "metadata": {},
   "outputs": [
    {
     "name": "stdout",
     "output_type": "stream",
     "text": [
      "Write Your City Name: Lahore\n",
      "Lahore is Right Answer\n"
     ]
    }
   ],
   "source": [
    "#elif statements\n",
    "#input function\n",
    "\n",
    "city = input(\"Write Your City Name: \")\n",
    "\n",
    "\n",
    "if city == \"Karachi\":  \n",
    "    \n",
    "    print(\"Karachi is Right Answer\")    \n",
    "    \n",
    "elif city == \"Islamabad\":    \n",
    "    \n",
    "    print(\"Islamabad is Right Answer\")\n",
    "    \n",
    "elif city == \"Multan\":    \n",
    "    \n",
    "    print(\"Multan is Right Answer\")\n",
    "    \n",
    "elif city == \"Lahore\":   \n",
    "    \n",
    "    print(\"Lahore is Right Answer\")   \n",
    "    \n",
    "else:    \n",
    "    print(\"Wrong Answer\")"
   ]
  },
  {
   "cell_type": "code",
   "execution_count": 50,
   "metadata": {},
   "outputs": [
    {
     "name": "stdout",
     "output_type": "stream",
     "text": [
      "60\n"
     ]
    }
   ],
   "source": [
    "age = 10\n",
    "\n",
    "age += 50\n",
    "\n",
    "print(age)"
   ]
  },
  {
   "cell_type": "code",
   "execution_count": null,
   "metadata": {},
   "outputs": [],
   "source": []
  }
 ],
 "metadata": {
  "kernelspec": {
   "display_name": "Python 3",
   "language": "python",
   "name": "python3"
  },
  "language_info": {
   "codemirror_mode": {
    "name": "ipython",
    "version": 3
   },
   "file_extension": ".py",
   "mimetype": "text/x-python",
   "name": "python",
   "nbconvert_exporter": "python",
   "pygments_lexer": "ipython3",
   "version": "3.8.3"
  }
 },
 "nbformat": 4,
 "nbformat_minor": 4
}
