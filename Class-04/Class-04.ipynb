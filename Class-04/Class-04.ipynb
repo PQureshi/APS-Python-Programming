{
 "cells": [
  {
   "cell_type": "code",
   "execution_count": 3,
   "metadata": {},
   "outputs": [
    {
     "name": "stdout",
     "output_type": "stream",
     "text": [
      "Saylani Mass IT Training\n",
      "Saylani Mass IT Training\n",
      "Saylani Mass IT Training\n",
      "Saylani Mass IT Training\n",
      "\n"
     ]
    }
   ],
   "source": [
    "#Wrong Way\n",
    "a = \"Saylani Mass IT Training\"\n",
    "b = \"\\n \"\n",
    "c = \"\\t\"\n",
    "\n",
    "print(a +  + a + \"\\n\" + a + \"\\n\" +a + \"\\n\")"
   ]
  },
  {
   "cell_type": "code",
   "execution_count": null,
   "metadata": {},
   "outputs": [],
   "source": [
    "#Task-01) \n",
    "#Print the following string in a specific format (see the output in attached file).\n",
    "#        i) Using Single Print Function."
   ]
  },
  {
   "cell_type": "code",
   "execution_count": 5,
   "metadata": {},
   "outputs": [
    {
     "name": "stdout",
     "output_type": "stream",
     "text": [
      "Saylani Mass IT Training \t Saylani Mass IT Training \n",
      " Saylani Mass IT Training \t Saylani Mass IT Training\n"
     ]
    }
   ],
   "source": [
    "print(\"Saylani Mass IT Training \\t Saylani Mass IT Training \\n Saylani Mass IT Training \\t Saylani Mass IT Training\" )"
   ]
  },
  {
   "cell_type": "code",
   "execution_count": 8,
   "metadata": {},
   "outputs": [
    {
     "name": "stdout",
     "output_type": "stream",
     "text": [
      "First Value: 25\n",
      "First Value: 10\n",
      "35\n",
      "15\n",
      "2.5\n",
      "250\n"
     ]
    }
   ],
   "source": [
    "#Wrong Way\n",
    "\n",
    "a = int(input(\"First Value: \"))\n",
    "b = int(input(\"First Value: \"))\n",
    "op1 = \"+\"\n",
    "op2 = \"-\"\n",
    "\n",
    "\n",
    "print(a + b)\n",
    "print(a - b)\n",
    "print(a / b)\n",
    "print(a * b)\n"
   ]
  },
  {
   "cell_type": "code",
   "execution_count": 15,
   "metadata": {},
   "outputs": [
    {
     "name": "stdout",
     "output_type": "stream",
     "text": [
      "First Value: zunaib\n"
     ]
    },
    {
     "ename": "ValueError",
     "evalue": "invalid literal for int() with base 10: 'zunaib'",
     "output_type": "error",
     "traceback": [
      "\u001b[1;31m---------------------------------------------------------------------------\u001b[0m",
      "\u001b[1;31mValueError\u001b[0m                                Traceback (most recent call last)",
      "\u001b[1;32m<ipython-input-15-bb4d8d0bcee4>\u001b[0m in \u001b[0;36m<module>\u001b[1;34m\u001b[0m\n\u001b[0;32m      1\u001b[0m \u001b[1;31m#Right Way\u001b[0m\u001b[1;33m\u001b[0m\u001b[1;33m\u001b[0m\u001b[1;33m\u001b[0m\u001b[0m\n\u001b[0;32m      2\u001b[0m \u001b[1;33m\u001b[0m\u001b[0m\n\u001b[1;32m----> 3\u001b[1;33m \u001b[0mnum1\u001b[0m \u001b[1;33m=\u001b[0m \u001b[0mint\u001b[0m\u001b[1;33m(\u001b[0m\u001b[0minput\u001b[0m\u001b[1;33m(\u001b[0m\u001b[1;34m\"First Value: \"\u001b[0m\u001b[1;33m)\u001b[0m\u001b[1;33m)\u001b[0m\u001b[1;33m\u001b[0m\u001b[1;33m\u001b[0m\u001b[0m\n\u001b[0m\u001b[0;32m      4\u001b[0m \u001b[0mnum2\u001b[0m \u001b[1;33m=\u001b[0m \u001b[0mint\u001b[0m\u001b[1;33m(\u001b[0m\u001b[0minput\u001b[0m\u001b[1;33m(\u001b[0m\u001b[1;34m\"Second Value: \"\u001b[0m\u001b[1;33m)\u001b[0m\u001b[1;33m)\u001b[0m\u001b[1;33m\u001b[0m\u001b[1;33m\u001b[0m\u001b[0m\n\u001b[0;32m      5\u001b[0m \u001b[0mop\u001b[0m \u001b[1;33m=\u001b[0m \u001b[0minput\u001b[0m\u001b[1;33m(\u001b[0m\u001b[1;34m\"Write Operator: \"\u001b[0m\u001b[1;33m)\u001b[0m\u001b[1;33m\u001b[0m\u001b[1;33m\u001b[0m\u001b[0m\n",
      "\u001b[1;31mValueError\u001b[0m: invalid literal for int() with base 10: 'zunaib'"
     ]
    }
   ],
   "source": [
    "#Right Way\n",
    "\n",
    "num1 = int(input(\"First Value: \"))\n",
    "num2 = int(input(\"Second Value: \"))\n",
    "op = input(\"Write Operator: \")\n",
    "\n",
    "if op == \"+\":\n",
    "    print(num1 + num2)\n",
    "elif op == \"-\":\n",
    "    print(num1 - num2)\n",
    "elif op == \"/\":\n",
    "    print(num1 / num2)\n",
    "elif op == \"*\":\n",
    "    print(num1 * num2)\n",
    "else:\n",
    "    print(\"Wrong Operator\")\n",
    "\n",
    "\n"
   ]
  },
  {
   "cell_type": "code",
   "execution_count": 22,
   "metadata": {},
   "outputs": [
    {
     "name": "stdout",
     "output_type": "stream",
     "text": [
      "25 50 Zunaib\n"
     ]
    }
   ],
   "source": [
    "students = [25, 50, 60, \"Zunaib\", \"Abdullah\"]\n",
    "\n",
    "print(students[0], students[1], students[3])"
   ]
  },
  {
   "cell_type": "code",
   "execution_count": 24,
   "metadata": {},
   "outputs": [
    {
     "name": "stdout",
     "output_type": "stream",
     "text": [
      "[25, 50, 60, 'Zunaib', 'Abdullah', 'Ayaan']\n"
     ]
    }
   ],
   "source": [
    "students = [25, 50, 60, \"Zunaib\", \"Abdullah\"]\n",
    "\n",
    "students.append(\"Ayaan\")\n",
    "\n",
    "print(students)"
   ]
  },
  {
   "cell_type": "code",
   "execution_count": 27,
   "metadata": {},
   "outputs": [
    {
     "name": "stdout",
     "output_type": "stream",
     "text": [
      "Zunaib Bilal\n"
     ]
    }
   ],
   "source": [
    "students = [\"Zunaib\", \"Abdullah\", \"Ayaan\"]\n",
    "\n",
    "students.append(\"Bilal\")\n",
    "\n",
    "print(students[0], students[3])"
   ]
  },
  {
   "cell_type": "code",
   "execution_count": 28,
   "metadata": {},
   "outputs": [
    {
     "name": "stdout",
     "output_type": "stream",
     "text": [
      "Zunaib 200\n"
     ]
    }
   ],
   "source": [
    "students = [\"Zunaib\", \"Abdullah\", \"Ayaan\"]\n",
    "\n",
    "students.append(200)\n",
    "\n",
    "print(students[0], students[3])"
   ]
  },
  {
   "cell_type": "code",
   "execution_count": 31,
   "metadata": {},
   "outputs": [
    {
     "name": "stdout",
     "output_type": "stream",
     "text": [
      "Bilal\n"
     ]
    }
   ],
   "source": [
    "students = [\"Zunaib\", \"Abdullah\", \"Ayaan\"]\n",
    "\n",
    "students[1] = \"Bilal\"\n",
    "\n",
    "print(students[1])"
   ]
  },
  {
   "cell_type": "code",
   "execution_count": 32,
   "metadata": {},
   "outputs": [
    {
     "name": "stdout",
     "output_type": "stream",
     "text": [
      "['Zunaib', 'Abdullah', 'Ayaan', 'Bilal', 'Amna']\n"
     ]
    }
   ],
   "source": [
    "students = [\"Zunaib\", \"Abdullah\", \"Ayaan\"]\n",
    "\n",
    "students = students + [\"Bilal\", \"Amna\"]\n",
    "\n",
    "print(students)"
   ]
  },
  {
   "cell_type": "code",
   "execution_count": 36,
   "metadata": {},
   "outputs": [
    {
     "name": "stdout",
     "output_type": "stream",
     "text": [
      "['Zunaib', 'Abdullah', 'Ayaan', 'Bilal', 'Amna']\n"
     ]
    }
   ],
   "source": [
    "school = []\n",
    "\n",
    "school = students\n",
    "\n",
    "print(school)"
   ]
  },
  {
   "cell_type": "code",
   "execution_count": 43,
   "metadata": {},
   "outputs": [
    {
     "name": "stdout",
     "output_type": "stream",
     "text": [
      "['Zunaib', 'Abdullah', 'Zunaib', 'Ayaan']\n"
     ]
    }
   ],
   "source": [
    "students = [\"Zunaib\", \"Abdullah\", \"Ayaan\"]\n",
    "\n",
    "students.insert(2       , \"Zunaib\")\n",
    "\n",
    "print(students)"
   ]
  },
  {
   "cell_type": "code",
   "execution_count": 46,
   "metadata": {},
   "outputs": [
    {
     "name": "stdout",
     "output_type": "stream",
     "text": [
      "['Zunaib', 'Abdullah', 'Ayaan', 'Bilal', 'Amna']\n"
     ]
    }
   ],
   "source": [
    "students = [\"Zunaib\", \"Abdullah\", \"Ayaan\", \"Bilal\", \"Amna\"]\n",
    "\n",
    "newstudents = students + [\"Bilal\", \"Amna\"]\n",
    "\n",
    "print(newstudents)"
   ]
  },
  {
   "cell_type": "code",
   "execution_count": 63,
   "metadata": {},
   "outputs": [
    {
     "name": "stdout",
     "output_type": "stream",
     "text": [
      "['Abdullah', 'Ayaan', 'Bilal'] ['Amna', 'Rehan']\n"
     ]
    }
   ],
   "source": [
    "students = [\"Zunaib\", \"Abdullah\", \"Ayaan\", \"Bilal\", \"Amna\", \"Rehan\"]\n",
    "\n",
    "newstu = students[1:4]\n",
    "newstu2 = students[4:6]\n",
    "\n",
    "print(newstu, newstu2)"
   ]
  },
  {
   "cell_type": "code",
   "execution_count": 65,
   "metadata": {},
   "outputs": [
    {
     "name": "stdout",
     "output_type": "stream",
     "text": [
      "['Ayaan', 'Bilal', 'Amna', 'Rehan']\n"
     ]
    }
   ],
   "source": [
    "students = [\"Zunaib\", \"Abdullah\", \"Ayaan\", \"Bilal\", \"Amna\", \"Rehan\"]\n",
    "\n",
    "newstu = students[2:]\n",
    "\n",
    "print(newstu)"
   ]
  },
  {
   "cell_type": "code",
   "execution_count": 70,
   "metadata": {},
   "outputs": [
    {
     "name": "stdout",
     "output_type": "stream",
     "text": [
      "['Abdullah', 'Ayaan', 'Bilal']\n"
     ]
    }
   ],
   "source": [
    "students = [\"Zunaib\", \"Abdullah\", \"Ayaan\", \"Bilal\"]\n",
    "\n",
    "newlist = students[1:]\n",
    "\n",
    "print(newlist)"
   ]
  },
  {
   "cell_type": "code",
   "execution_count": 74,
   "metadata": {},
   "outputs": [
    {
     "name": "stdout",
     "output_type": "stream",
     "text": [
      "['Abdullah', 'Ayaan', 'Bilal', 'Adil']\n"
     ]
    }
   ],
   "source": [
    "students = [\"Zunaib\", \"Abdullah\", \"Ayaan\", \"Bilal\"]\n",
    "\n",
    "students.append(\"Adil\")\n",
    "\n",
    "newlist = students[1:]\n",
    "\n",
    "print(newlist)\n"
   ]
  },
  {
   "cell_type": "code",
   "execution_count": 1,
   "metadata": {},
   "outputs": [
    {
     "name": "stdout",
     "output_type": "stream",
     "text": [
      "Zunaib ['Ayaan', 'Bilal']\n"
     ]
    }
   ],
   "source": [
    "students = [\"Zunaib\", \"Abdullah\", \"Ayaan\", \"Bilal\"]\n",
    "\n",
    "newlist1 = students[0]\n",
    "newlist2 = students[2:]\n",
    "\n",
    "print(newlist1, newlist2)"
   ]
  },
  {
   "cell_type": "code",
   "execution_count": 15,
   "metadata": {},
   "outputs": [
    {
     "name": "stdout",
     "output_type": "stream",
     "text": [
      "['Zunaib', 'Abdullah', 'Bilal']\n"
     ]
    }
   ],
   "source": [
    "students = [\"Zunaib\", \"Abdullah\", \"Ayaan\", \"Bilal\"]\n",
    "\n",
    "students.remove(\"Ayaan\")\n",
    "\n",
    "print(students)"
   ]
  },
  {
   "cell_type": "code",
   "execution_count": 11,
   "metadata": {},
   "outputs": [
    {
     "name": "stdout",
     "output_type": "stream",
     "text": [
      "['Zunaib', 'Abdullah', 'Bilal']\n"
     ]
    }
   ],
   "source": [
    "students = [\"Zunaib\", \"Abdullah\", \"Ayaan\", \"Bilal\"]\n",
    "\n",
    "del students[2]\n",
    "\n",
    "print(students)"
   ]
  },
  {
   "cell_type": "code",
   "execution_count": 14,
   "metadata": {},
   "outputs": [
    {
     "name": "stdout",
     "output_type": "stream",
     "text": [
      "Abdullah\n",
      "['Zunaib', 'Ayaan', 'Bilal']\n"
     ]
    }
   ],
   "source": [
    "students = [\"Zunaib\", \"Abdullah\", \"Ayaan\", \"Bilal\"]\n",
    "\n",
    "newstudents = students.pop(1)\n",
    "\n",
    "print(newstudents)\n",
    "print(students)"
   ]
  },
  {
   "cell_type": "code",
   "execution_count": 20,
   "metadata": {},
   "outputs": [
    {
     "name": "stdout",
     "output_type": "stream",
     "text": [
      "Abdullah\n"
     ]
    }
   ],
   "source": [
    "students = (\"Zunaib\", \"Abdullah\", \"Ayaan\", \"Bilal\")\n",
    "\n",
    "print(students[1])"
   ]
  },
  {
   "cell_type": "code",
   "execution_count": null,
   "metadata": {},
   "outputs": [],
   "source": []
  }
 ],
 "metadata": {
  "kernelspec": {
   "display_name": "Python 3",
   "language": "python",
   "name": "python3"
  },
  "language_info": {
   "codemirror_mode": {
    "name": "ipython",
    "version": 3
   },
   "file_extension": ".py",
   "mimetype": "text/x-python",
   "name": "python",
   "nbconvert_exporter": "python",
   "pygments_lexer": "ipython3",
   "version": "3.8.3"
  }
 },
 "nbformat": 4,
 "nbformat_minor": 4
}
