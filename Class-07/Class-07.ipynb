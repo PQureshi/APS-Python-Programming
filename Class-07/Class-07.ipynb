{
 "cells": [
  {
   "cell_type": "code",
   "execution_count": 15,
   "metadata": {},
   "outputs": [
    {
     "name": "stdout",
     "output_type": "stream",
     "text": [
      "['Zunaib', 'Bilal']\n",
      "['9th', '8th']\n",
      "['03001234567', '03451234567']\n",
      "['Karachi, Pakistan', 'Islamabad, Pakistan']\n",
      "['muhammadzunaib@gmail.com', 'Bilal@gmail.com']\n"
     ]
    }
   ],
   "source": [
    "stuinfo = {  \"name\": [\"Zunaib\", \"Bilal\"], \n",
    "           \n",
    "            \"class\": [\"9th\", \"8th\"], \n",
    "           \n",
    "          5: [\"03001234567\", \"03451234567\"],\n",
    "           \n",
    "          \"address\": [\"Karachi, Pakistan\", \"Islamabad, Pakistan\"],\n",
    "           \n",
    "          \"email\": [\"muhammadzunaib@gmail.com\", \"Bilal@gmail.com\"],          \n",
    "          \n",
    "     \n",
    "          }\n",
    "\n",
    "\n",
    "for i in stuinfo.values():\n",
    "    print(i)"
   ]
  },
  {
   "cell_type": "code",
   "execution_count": null,
   "metadata": {},
   "outputs": [],
   "source": []
  },
  {
   "cell_type": "code",
   "execution_count": null,
   "metadata": {},
   "outputs": [],
   "source": [
    "stuinfo = {  \"name\": [\"Zunaib\", \"Bilal\"], \n",
    "           \n",
    "            \"class\": [\"9th\", \"8th\"], \n",
    "           \n",
    "          5: [\"03001234567\", \"03451234567\"],\n",
    "           \n",
    "          \"address\": [\"Karachi, Pakistan\", \"Islamabad, Pakistan\"],\n",
    "           \n",
    "          \"email\": [\"muhammadzunaib@gmail.com\", \"Bilal@gmail.com\"],          \n",
    "               \n",
    "          }\n",
    "\n",
    "\n",
    "for stu_keys, stu_values in stuinfo.items():\n",
    "    \n",
    "    print(\"Keys: \", stu_keys, \"Values: \", stu_values)"
   ]
  },
  {
   "cell_type": "code",
   "execution_count": 20,
   "metadata": {},
   "outputs": [
    {
     "name": "stdout",
     "output_type": "stream",
     "text": [
      "Zunaib\n"
     ]
    }
   ],
   "source": [
    "stuinfo = [\n",
    "            {\n",
    "                \"name\": \"Zunaib\",            \n",
    "                \"class\": \"8th\",   \n",
    "                \"address\": \"Karachi\",           \n",
    "            },\n",
    "    \n",
    "            {\n",
    "                \"name\": \"Bilal\",            \n",
    "                \"class\": \"9th\",   \n",
    "                \"address\": \"Islamabad\",           \n",
    "            }\n",
    "    \n",
    "          ]\n",
    "     \n",
    "          \n",
    "print(stuinfo[0][\"name\"])"
   ]
  },
  {
   "cell_type": "code",
   "execution_count": 23,
   "metadata": {},
   "outputs": [
    {
     "name": "stdout",
     "output_type": "stream",
     "text": [
      "Abdullah\n"
     ]
    }
   ],
   "source": [
    "stuinfo = [\n",
    "            {\n",
    "                \"name\": \"Zunaib\",            \n",
    "                \"class\": \"8th\",   \n",
    "                \"address\": \"Karachi\",           \n",
    "            },    \n",
    "            {\n",
    "                \"name\": \"Bilal\",            \n",
    "                \"class\": \"9th\",   \n",
    "                \"address\": \"Islamabad\",           \n",
    "            }    \n",
    "          ]\n",
    "\n",
    "new_stu =  {\n",
    "                \"name\": \"Abdullah\",            \n",
    "                \"class\": \"10th\",   \n",
    "                \"address\": \"Lahore\",           \n",
    "            }\n",
    "\n",
    "stuinfo.append(new_stu)\n",
    "          \n",
    "print(stuinfo[2][\"name\"])"
   ]
  },
  {
   "cell_type": "code",
   "execution_count": 25,
   "metadata": {},
   "outputs": [
    {
     "name": "stdout",
     "output_type": "stream",
     "text": [
      "Q1) Color of Apple?\n",
      "a) Red\n",
      "b) Blue\n",
      "c) Green\n",
      "d) Black\n",
      "Select Option: a\n",
      "Correct Answer\n"
     ]
    }
   ],
   "source": [
    "#QuizApp #Simple Print Funciton\n",
    " \n",
    "print(\"Q1) Color of Apple?\")\n",
    "print(\"a) Red\")\n",
    "print(\"b) Blue\")\n",
    "print(\"c) Green\")\n",
    "print(\"d) Black\")\n",
    "\n",
    "answer = input(\"Select Option: \")\n",
    "\n",
    "if answer == \"a\":\n",
    "    print(\"Correct Answer\")\n",
    "else:\n",
    "    print(\"Wrong Answer\")\n"
   ]
  },
  {
   "cell_type": "code",
   "execution_count": 47,
   "metadata": {},
   "outputs": [
    {
     "name": "stdout",
     "output_type": "stream",
     "text": [
      "Q1) Color of Apple? \n",
      " a) Red \n",
      " b) Blue \n",
      " c) Green \n",
      " d) Black\n",
      "a\n",
      "Correct Answer: a\n",
      " \n",
      "\n",
      "Q2) Color of Banana? \n",
      " a) Red \n",
      " b) Blue \n",
      " c) Green \n",
      " d) Yellow\n",
      "d\n",
      "Correct Answer: d\n",
      "\n",
      "\n",
      "Q3) Color of Sky? \n",
      " a) Red \n",
      " b) Blue \n",
      " c) Green \n",
      " d) Yellow\n",
      "b\n",
      "Correct Answer: b\n"
     ]
    }
   ],
   "source": [
    "#QuizApp #List\n",
    "\n",
    "quiz = [\n",
    "        \"Q1) Color of Apple? \\n a) Red \\n b) Blue \\n c) Green \\n d) Black\\n\",\n",
    "        \n",
    "    \" \\nQ2) Color of Banana? \\n a) Red \\n b) Blue \\n c) Green \\n d) Yellow\\n\",\n",
    "       \n",
    "    \"\\nQ3) Color of Sky? \\n a) Red \\n b) Blue \\n c) Green \\n d) Yellow\\n\"\n",
    "       ]\n",
    "\n",
    "ans = [\"a\", \"d\", \"b\"]\n",
    "i = 0\n",
    "for question in quiz:    \n",
    "    answer = input(question)    \n",
    "    if answer == ans[i]:              \n",
    "        i = i+1        \n",
    "        print(\"Correct Answer: \" + answer)        \n",
    "    else:\n",
    "        print(\"Wrong Answer\")"
   ]
  },
  {
   "cell_type": "code",
   "execution_count": 53,
   "metadata": {},
   "outputs": [
    {
     "name": "stdout",
     "output_type": "stream",
     "text": [
      "9th\n"
     ]
    }
   ],
   "source": [
    "stuinfo = {  \"name\": [\"Zunaib\", \"Bilal\"], \n",
    "           \n",
    "            \"class\": [\"9th\", \"8th\"],            \n",
    "           \n",
    "          \"address\": [\"Karachi, Pakistan\", \"Islamabad, Pakistan\"],\n",
    "    \n",
    "          }\n",
    "\n",
    "print(stuinfo[\"class\"][0])\n"
   ]
  },
  {
   "cell_type": "code",
   "execution_count": 63,
   "metadata": {},
   "outputs": [
    {
     "name": "stdout",
     "output_type": "stream",
     "text": [
      "{'name': 'Zunaib', 'class': '8th', 'address': 'Karachi'}\n"
     ]
    }
   ],
   "source": [
    "stuinfo = {\n",
    "       \"first\": {                \n",
    "                \"name\": \"Zunaib\",            \n",
    "                \"class\": \"8th\",   \n",
    "                \"address\": \"Karachi\",           \n",
    "                },\n",
    "    \n",
    "         \"2nd\": {                \n",
    "                \"name\": \"Bilal\",            \n",
    "                \"class\": \"9th\",   \n",
    "                \"address\": \"Islamabad\",           \n",
    "                }    \n",
    "          }\n",
    "\n",
    "print(stuinfo[\"first\"])\n",
    "          \n"
   ]
  },
  {
   "cell_type": "code",
   "execution_count": 64,
   "metadata": {},
   "outputs": [
    {
     "name": "stdout",
     "output_type": "stream",
     "text": [
      "11\n"
     ]
    }
   ],
   "source": [
    "\n",
    "\n",
    "num1 = 5\n",
    "num2 = 6\n",
    "\n",
    "print(num1 + num2)\n"
   ]
  },
  {
   "cell_type": "code",
   "execution_count": 65,
   "metadata": {},
   "outputs": [
    {
     "name": "stdout",
     "output_type": "stream",
     "text": [
      "110\n"
     ]
    }
   ],
   "source": [
    "num1 = 50\n",
    "num2 = 60\n",
    "\n",
    "print(num1 + num2)"
   ]
  },
  {
   "cell_type": "code",
   "execution_count": 72,
   "metadata": {},
   "outputs": [],
   "source": [
    "#Functions\n",
    "\n",
    "def add_num():\n",
    "    a = 5\n",
    "    b = 10\n",
    "    c = a + b\n",
    "    print(c)\n",
    "\n",
    "def sub_num():\n",
    "    a = 15\n",
    "    b = 10\n",
    "    c = a - b\n",
    "    print(c)\n",
    "\n",
    "def mul_num():\n",
    "    a = 5\n",
    "    b = 10\n",
    "    c = a * b\n",
    "    print(c)\n",
    "    \n",
    "def div_num():\n",
    "    a = 50\n",
    "    b = 10\n",
    "    c = a / b\n",
    "    print(c)"
   ]
  },
  {
   "cell_type": "code",
   "execution_count": 76,
   "metadata": {},
   "outputs": [
    {
     "name": "stdout",
     "output_type": "stream",
     "text": [
      "15\n",
      "15\n",
      "15\n"
     ]
    }
   ],
   "source": [
    "add_num()\n",
    "sub_num()\n",
    "mul_num()\n",
    "div_num()"
   ]
  },
  {
   "cell_type": "code",
   "execution_count": null,
   "metadata": {},
   "outputs": [],
   "source": []
  },
  {
   "cell_type": "code",
   "execution_count": null,
   "metadata": {},
   "outputs": [],
   "source": []
  },
  {
   "cell_type": "code",
   "execution_count": null,
   "metadata": {},
   "outputs": [],
   "source": []
  },
  {
   "cell_type": "code",
   "execution_count": null,
   "metadata": {},
   "outputs": [],
   "source": []
  },
  {
   "cell_type": "code",
   "execution_count": null,
   "metadata": {},
   "outputs": [],
   "source": []
  },
  {
   "cell_type": "code",
   "execution_count": 68,
   "metadata": {},
   "outputs": [
    {
     "name": "stdout",
     "output_type": "stream",
     "text": [
      "15\n"
     ]
    }
   ],
   "source": [
    "add_num()"
   ]
  },
  {
   "cell_type": "code",
   "execution_count": null,
   "metadata": {},
   "outputs": [],
   "source": []
  },
  {
   "cell_type": "code",
   "execution_count": null,
   "metadata": {},
   "outputs": [],
   "source": []
  },
  {
   "cell_type": "code",
   "execution_count": null,
   "metadata": {},
   "outputs": [],
   "source": []
  }
 ],
 "metadata": {
  "kernelspec": {
   "display_name": "Python 3",
   "language": "python",
   "name": "python3"
  },
  "language_info": {
   "codemirror_mode": {
    "name": "ipython",
    "version": 3
   },
   "file_extension": ".py",
   "mimetype": "text/x-python",
   "name": "python",
   "nbconvert_exporter": "python",
   "pygments_lexer": "ipython3",
   "version": "3.8.3"
  }
 },
 "nbformat": 4,
 "nbformat_minor": 4
}
